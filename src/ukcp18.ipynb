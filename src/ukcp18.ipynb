{
 "cells": [
  {
   "cell_type": "code",
   "execution_count": 8,
   "metadata": {},
   "outputs": [],
   "source": [
    "from app.asset_data import AssetData\n",
    "from app.create_dataarray import DatasetDataArray\n",
    "from app.data_models import DatasetDetails\n",
    "from app.get_values import DatasetsValueExtractor"
   ]
  },
  {
   "cell_type": "code",
   "execution_count": 9,
   "metadata": {},
   "outputs": [],
   "source": [
    "ad = AssetData(source=\"../docs/uk_points_2.geojson\")\n",
    "out_crs = \"EPSG:27700\""
   ]
  },
  {
   "cell_type": "code",
   "execution_count": 10,
   "metadata": {},
   "outputs": [],
   "source": [
    "dd = DatasetDetails(\n",
    "    url=\"/Users/sgdowd/Downloads/ukcp18/data/tasmax_rcp85_land-cpm_uk_5km_01_mon_200012-202011.nc\",\n",
    "    datetime=\"2000-12-16T00:00:00\",\n",
    "    source_file_name=\"tasmax_rcp85_land-cpm_uk_5km_01_mon_200012-202011.nc\",\n",
    "    unit=\"K\",\n",
    "    output_name=\"tasmax\",\n",
    ")"
   ]
  },
  {
   "cell_type": "code",
   "execution_count": 11,
   "metadata": {},
   "outputs": [],
   "source": [
    "dda = DatasetDataArray(\n",
    "    dataset_details=dd,\n",
    "    variable=\"tasmax\",\n",
    "    crs=\"EPSG:27700\",\n",
    ")"
   ]
  },
  {
   "cell_type": "code",
   "execution_count": 12,
   "metadata": {},
   "outputs": [
    {
     "data": {
      "text/plain": [
       "CRS.from_wkt('PROJCS[\"undefined\",GEOGCS[\"undefined\",DATUM[\"undefined\",SPHEROID[\"undefined\",6377563.396,299.324961266495]],PRIMEM[\"undefined\",0],UNIT[\"degree\",0.0174532925199433,AUTHORITY[\"EPSG\",\"9122\"]]],PROJECTION[\"Transverse_Mercator\"],PARAMETER[\"latitude_of_origin\",49],PARAMETER[\"central_meridian\",-2],PARAMETER[\"scale_factor\",0.9996012717],PARAMETER[\"false_easting\",400000],PARAMETER[\"false_northing\",-100000],UNIT[\"metre\",1,AUTHORITY[\"EPSG\",\"9001\"]],AXIS[\"Easting\",EAST],AXIS[\"Northing\",NORTH]]')"
      ]
     },
     "execution_count": 12,
     "metadata": {},
     "output_type": "execute_result"
    }
   ],
   "source": [
    "dda.ds.rio.crs"
   ]
  },
  {
   "cell_type": "code",
   "execution_count": 6,
   "metadata": {},
   "outputs": [],
   "source": [
    "dve = DatasetsValueExtractor(\n",
    "    dataset_details_list=[dd],\n",
    "    assets=ad,\n",
    "    expression=None,\n",
    ")"
   ]
  },
  {
   "cell_type": "code",
   "execution_count": 13,
   "metadata": {},
   "outputs": [],
   "source": [
    "dve.get_values_for_dataset(dd, variable=\"tasmax\")"
   ]
  },
  {
   "cell_type": "code",
   "execution_count": 14,
   "metadata": {},
   "outputs": [
    {
     "data": {
      "text/plain": [
       "{'type': 'FeatureCollection',\n",
       " 'features': [{'type': 'Feature',\n",
       "   'geometry': {'type': 'Point', 'coordinates': [-0.1276, 51.5074]},\n",
       "   'properties': {'name': 'London',\n",
       "    'population': 8982000,\n",
       "    'area_sq_km': 1572,\n",
       "    'returned_values': {'2000-12-16': {'value': 12.117603302001953,\n",
       "      'datetime': '2000-12-16T00:00:00',\n",
       "      'unit': 'K',\n",
       "      'file_name': 'tasmax_rcp85_land-cpm_uk_5km_01_mon_200012-202011.nc'}}}},\n",
       "  {'type': 'Feature',\n",
       "   'geometry': {'type': 'Point', 'coordinates': [-1.8262, 51.1789]},\n",
       "   'properties': {'name': 'Stonehenge',\n",
       "    'historical': True,\n",
       "    'visitor_count_per_year': 1200000,\n",
       "    'returned_values': {'2000-12-16': {'value': 12.117603302001953,\n",
       "      'datetime': '2000-12-16T00:00:00',\n",
       "      'unit': 'K',\n",
       "      'file_name': 'tasmax_rcp85_land-cpm_uk_5km_01_mon_200012-202011.nc'}}}},\n",
       "  {'type': 'Feature',\n",
       "   'geometry': {'type': 'Point', 'coordinates': [-3.1883, 55.9533]},\n",
       "   'properties': {'name': 'Edinburgh',\n",
       "    'population': 506520,\n",
       "    'area_sq_km': 264,\n",
       "    'returned_values': {'2000-12-16': {'value': 12.117603302001953,\n",
       "      'datetime': '2000-12-16T00:00:00',\n",
       "      'unit': 'K',\n",
       "      'file_name': 'tasmax_rcp85_land-cpm_uk_5km_01_mon_200012-202011.nc'}}}},\n",
       "  {'type': 'Feature',\n",
       "   'geometry': {'type': 'Point', 'coordinates': [-2.2426, 53.4808]},\n",
       "   'properties': {'name': 'Manchester',\n",
       "    'population': 553230,\n",
       "    'area_sq_km': 115.6,\n",
       "    'returned_values': {'2000-12-16': {'value': 12.117603302001953,\n",
       "      'datetime': '2000-12-16T00:00:00',\n",
       "      'unit': 'K',\n",
       "      'file_name': 'tasmax_rcp85_land-cpm_uk_5km_01_mon_200012-202011.nc'}}}},\n",
       "  {'type': 'Feature',\n",
       "   'geometry': {'type': 'Point', 'coordinates': [-3.935, 51.5815]},\n",
       "   'properties': {'name': 'Swansea',\n",
       "    'population': 246466,\n",
       "    'area_sq_km': 378,\n",
       "    'returned_values': {'2000-12-16': {'value': 12.117603302001953,\n",
       "      'datetime': '2000-12-16T00:00:00',\n",
       "      'unit': 'K',\n",
       "      'file_name': 'tasmax_rcp85_land-cpm_uk_5km_01_mon_200012-202011.nc'}}}}]}"
      ]
     },
     "execution_count": 14,
     "metadata": {},
     "output_type": "execute_result"
    }
   ],
   "source": [
    "dve.assets.json_data"
   ]
  }
 ],
 "metadata": {
  "kernelspec": {
   "display_name": ".venv",
   "language": "python",
   "name": "python3"
  },
  "language_info": {
   "codemirror_mode": {
    "name": "ipython",
    "version": 3
   },
   "file_extension": ".py",
   "mimetype": "text/x-python",
   "name": "python",
   "nbconvert_exporter": "python",
   "pygments_lexer": "ipython3",
   "version": "3.13.2"
  }
 },
 "nbformat": 4,
 "nbformat_minor": 2
}
